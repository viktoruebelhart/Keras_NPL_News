{
  "nbformat": 4,
  "nbformat_minor": 0,
  "metadata": {
    "colab": {
      "provenance": [],
      "authorship_tag": "ABX9TyMQRFMCHyUQvRcEvKh4Tahl",
      "include_colab_link": true
    },
    "kernelspec": {
      "name": "python3",
      "display_name": "Python 3"
    },
    "language_info": {
      "name": "python"
    }
  },
  "cells": [
    {
      "cell_type": "markdown",
      "metadata": {
        "id": "view-in-github",
        "colab_type": "text"
      },
      "source": [
        "<a href=\"https://colab.research.google.com/github/viktoruebelhart/Keras_NPL_News/blob/main/word_completer_keras.ipynb\" target=\"_parent\"><img src=\"https://colab.research.google.com/assets/colab-badge.svg\" alt=\"Open In Colab\"/></a>"
      ]
    },
    {
      "cell_type": "markdown",
      "source": [
        "We built a Deep Learning model to classify articles into different categories. Now, a new need has emerged: our content portal wants editors and journalists to follow a consistent style when writing texts. To do this, we will create a word completer that follows a specific style, similar to the feature found in text editors."
      ],
      "metadata": {
        "id": "40Ua30suwxdz"
      }
    },
    {
      "cell_type": "code",
      "source": [
        "import pandas as pd\n",
        "import tensorflow as tf\n",
        "\n",
        "url = 'https://github.com/allanspadini/curso-tensorflow-proxima-palavra/raw/main/dados/train.zip'\n",
        "\n",
        "df = pd.read_csv(url, header=None, names=['ClassIndex', 'Título', 'Descrição'])\n",
        "\n",
        "df['Texto'] = df['Título'] + '' + df['Descrição']"
      ],
      "metadata": {
        "id": "dez4sXFbwzTw"
      },
      "execution_count": 1,
      "outputs": []
    },
    {
      "cell_type": "code",
      "source": [],
      "metadata": {
        "id": "-4AzCyeexhbH"
      },
      "execution_count": null,
      "outputs": []
    }
  ]
}